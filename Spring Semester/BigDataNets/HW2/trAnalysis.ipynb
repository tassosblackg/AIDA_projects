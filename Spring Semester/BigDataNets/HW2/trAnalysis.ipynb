{
 "cells": [
  {
   "cell_type": "markdown",
   "id": "independent-whale",
   "metadata": {},
   "source": [
    "# Data Centers Traffic Analysis"
   ]
  },
  {
   "cell_type": "markdown",
   "id": "colored-beverage",
   "metadata": {},
   "source": [
    "### Big Data Networks"
   ]
  },
  {
   "cell_type": "markdown",
   "id": "otherwise-glance",
   "metadata": {},
   "source": [
    "#### Tassos Karageorgiadis"
   ]
  },
  {
   "cell_type": "code",
   "execution_count": 1,
   "id": "latin-request",
   "metadata": {},
   "outputs": [],
   "source": [
    "from alive_progress import alive_bar\n",
    "import dpkt\n",
    "import datetime\n",
    "import socket\n",
    "from dpkt.compat import compat_ord"
   ]
  },
  {
   "cell_type": "code",
   "execution_count": 2,
   "id": "centered-worthy",
   "metadata": {},
   "outputs": [],
   "source": [
    "from os import walk\n",
    "\n",
    "path = 'Data/'\n",
    "filenames = []\n",
    "(_, _, filenames) = next(walk(path))"
   ]
  },
  {
   "cell_type": "code",
   "execution_count": 4,
   "id": "detailed-march",
   "metadata": {},
   "outputs": [
    {
     "name": "stdout",
     "output_type": "stream",
     "text": [
      "univ1_pt13\n"
     ]
    }
   ],
   "source": [
    "print(filenames[0])"
   ]
  },
  {
   "cell_type": "code",
   "execution_count": 3,
   "id": "printable-press",
   "metadata": {},
   "outputs": [],
   "source": [
    "def mac_addr(address):\n",
    "    \"\"\"Convert a MAC address to a readable/printable string\n",
    "\n",
    "       Args:\n",
    "           address (str): a MAC address in hex form (e.g. '\\x01\\x02\\x03\\x04\\x05\\x06')\n",
    "       Returns:\n",
    "           str: Printable/readable MAC address\n",
    "    \"\"\"\n",
    "    return ':'.join('%02x' % compat_ord(b) for b in address)\n",
    "\n",
    "\n",
    "\n",
    "def inet_to_str(inet):\n",
    "    \"\"\"Convert inet object to a string\n",
    "\n",
    "        Args:\n",
    "            inet (inet struct): inet network address\n",
    "        Returns:\n",
    "            str: Printable/readable IP address\n",
    "    \"\"\"\n",
    "    # First try ipv4 and then ipv6\n",
    "    try:\n",
    "        return socket.inet_ntop(socket.AF_INET, inet)\n",
    "    except ValueError:\n",
    "        return socket.inet_ntop(socket.AF_INET6, inet)\n",
    "\n",
    "def print_packets(pcap):\n",
    "    \"\"\"Print out information about each packet in a pcap\n",
    "\n",
    "    Args:\n",
    "        pcap: dpkt pcap reader object (dpkt.pcap.Reader)\n",
    "    \"\"\"\n",
    "    tcpcounter, udpcounter, icmpcounter, arpcounter, other_counter = 0, 0, 0, 0, 0\n",
    "\n",
    "    # For each packet in the pcap process the contents\n",
    "    for timestamp, buf in pcap:\n",
    "\n",
    "        # Print out the timestamp in UTC\n",
    "        # print(\"Timestamp: \", str(datetime.datetime.utcfromtimestamp(timestamp)))\n",
    "\n",
    "        # Unpack the Ethernet frame (mac src/dst, ethertype)\n",
    "        eth = dpkt.ethernet.Ethernet(buf)\n",
    "        # print(\"Ethernet Frame: \", mac_addr(eth.src), mac_addr(eth.dst), eth.type)\n",
    "\n",
    "        # # Make sure the Ethernet data contains an IP packet\n",
    "        # if not isinstance(eth.data, dpkt.ip.IP):\n",
    "        #     # print(\"Non IP Packet type not supported %s\\n\" % eth.data.__class__.__name__)\n",
    "        #     continue\n",
    "        if isinstance(eth.data, dpkt.arp.ARP):\n",
    "            # print('Ignoring ARP packet %s\\n' % eth.data.__class__.__name__)\n",
    "            # continue\n",
    "            arpcounter += 1\n",
    "\n",
    "        elif isinstance(eth.data, dpkt.ip.IP):\n",
    "            # Now unpack the data within the Ethernet frame (the IP packet)\n",
    "            # Pulling out src, dst, length, fragment info, TTL, and Protocol\n",
    "            ip = eth.data\n",
    "\n",
    "            if ip.p == dpkt.ip.IP_PROTO_TCP:  # ip.p == 6:\n",
    "\n",
    "                tcpcounter += 1\n",
    "            if ip.p == dpkt.ip.IP_PROTO_UDP:  # ip.p==17:\n",
    "\n",
    "                udpcounter += 1\n",
    "            if ip.p == dpkt.ip.IP_PROTO_ICMP:\n",
    "                icmpcounter += 1\n",
    "\n",
    "            #         print(\"Test me\",ip.data)\n",
    "            # Pull out fragment information (flags and offset all packed into off field, so use bitmasks)\n",
    "            do_not_fragment = bool(ip.off & dpkt.ip.IP_DF)\n",
    "            more_fragments = bool(ip.off & dpkt.ip.IP_MF)\n",
    "            fragment_offset = ip.off & dpkt.ip.IP_OFFMASK\n",
    "        else:\n",
    "            # print(\"Ignoring packets except ARP,TCP,UDP,ICMP \\n\")\n",
    "            other_counter += 1\n",
    "            continue\n",
    "        # Print out the info\n",
    "    #         print('IP: %s -> %s   (len=%d ttl=%d DF=%d MF=%d offset=%d)\\n' % \\\n",
    "    #               (inet_to_str(ip.src), inet_to_str(ip.dst), ip.len, ip.ttl, do_not_fragment, more_fragments, fragment_offset))\n",
    "    print(\"Pcap file's number of arp packets :\", arpcounter)\n",
    "\n",
    "    print(\"Pcap file's number of tcp packets :\", tcpcounter)\n",
    "\n",
    "    print(\"Pcap file's number of udp packets :\", udpcounter)\n",
    "    print(\"Pcap file's number of icmp packets :\", icmpcounter)\n",
    "    print(\"Pcap file's number of OTHER packets :\", other_counter)\n",
    "\n",
    "    return (arpcounter, tcpcounter, udpcounter, icmpcounter, other_counter)"
   ]
  },
  {
   "cell_type": "code",
   "execution_count": 4,
   "id": "becoming-crystal",
   "metadata": {},
   "outputs": [],
   "source": [
    "total_arp, total_tcp, total_udp, total_icmp, total_other = 0, 0, 0, 0, 0\n",
    "pcap_files = []\n",
    "with alive_bar(len(filenames)) as bar:\n",
    "    for pcapf in filenames:\n",
    "        print(\"Pcap file reading...==> \", str(pcapf), \"\\n\")\n",
    "        with open(path + str(pcapf), \"rb\") as f:\n",
    "            file = dpkt.pcap.Reader(f)\n",
    "            n_arp, n_tcp, n_udp, n_icmp, n_other = print_packets(file)\n",
    "            total_arp += n_arp\n",
    "            total_tcp += n_tcp\n",
    "            total_udp += n_udp\n",
    "            total_icmp += n_icmp\n",
    "            total_other += n_other\n",
    "total_packets = (\n",
    "    total_arp + total_tcp + total_udp + total_icmp + total_other\n",
    ")  # total packets\n",
    "print(\n",
    "    \"Total ARPs: {} Total TCPs: {} Total UDPs: {} Total ICMPs: {} / Out Of {} total packets captured\".format(\n",
    "        total_arp, total_tcp, total_udp, total_icmp, total_packets\n",
    "    )\n",
    ")\n"
   ]
  }
 ],
 "metadata": {
  "kernelspec": {
   "display_name": "Python 3",
   "language": "python",
   "name": "python3"
  },
  "language_info": {
   "codemirror_mode": {
    "name": "ipython",
    "version": 3
   },
   "file_extension": ".py",
   "mimetype": "text/x-python",
   "name": "python",
   "nbconvert_exporter": "python",
   "pygments_lexer": "ipython3",
   "version": "3.9.2"
  }
 },
 "nbformat": 4,
 "nbformat_minor": 5
}
