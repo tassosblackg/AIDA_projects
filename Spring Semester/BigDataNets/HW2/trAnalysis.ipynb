{
 "cells": [
  {
   "cell_type": "markdown",
   "id": "independent-whale",
   "metadata": {},
   "source": [
    "# Data Centers Traffic Analysis"
   ]
  },
  {
   "cell_type": "markdown",
   "id": "colored-beverage",
   "metadata": {},
   "source": [
    "### Big Data Networks"
   ]
  },
  {
   "cell_type": "markdown",
   "id": "otherwise-glance",
   "metadata": {},
   "source": [
    "#### Tassos Karageorgiadis"
   ]
  },
  {
   "cell_type": "code",
   "execution_count": 1,
   "id": "latin-request",
   "metadata": {},
   "outputs": [],
   "source": [
    "from alive_progress import alive_bar\n",
    "import dpkt\n",
    "import datetime\n",
    "import socket\n",
    "from dpkt.compat import compat_ord"
   ]
  },
  {
   "cell_type": "code",
   "execution_count": 2,
   "id": "centered-worthy",
   "metadata": {},
   "outputs": [],
   "source": [
    "from os import walk\n",
    "\n",
    "path = 'Data/'\n",
    "filenames = []\n",
    "(_, _, filenames) = next(walk(path))"
   ]
  },
  {
   "cell_type": "code",
   "execution_count": 3,
   "id": "detailed-march",
   "metadata": {},
   "outputs": [
    {
     "name": "stdout",
     "output_type": "stream",
     "text": [
      "univ1_pt13\n"
     ]
    }
   ],
   "source": [
    "print(filenames[0])"
   ]
  },
  {
   "cell_type": "code",
   "execution_count": 4,
   "id": "printable-press",
   "metadata": {},
   "outputs": [],
   "source": [
    "def mac_addr(address):\n",
    "    \"\"\"Convert a MAC address to a readable/printable string\n",
    "\n",
    "       Args:\n",
    "           address (str): a MAC address in hex form (e.g. '\\x01\\x02\\x03\\x04\\x05\\x06')\n",
    "       Returns:\n",
    "           str: Printable/readable MAC address\n",
    "    \"\"\"\n",
    "    return ':'.join('%02x' % compat_ord(b) for b in address)\n",
    "\n",
    "\n",
    "\n",
    "def inet_to_str(inet):\n",
    "    \"\"\"Convert inet object to a string\n",
    "\n",
    "        Args:\n",
    "            inet (inet struct): inet network address\n",
    "        Returns:\n",
    "            str: Printable/readable IP address\n",
    "    \"\"\"\n",
    "    # First try ipv4 and then ipv6\n",
    "    try:\n",
    "        return socket.inet_ntop(socket.AF_INET, inet)\n",
    "    except ValueError:\n",
    "        return socket.inet_ntop(socket.AF_INET6, inet)\n",
    "\n",
    "def print_packets(pcap):\n",
    "    \"\"\"Print out information about each packet in a pcap\n",
    "\n",
    "    Args:\n",
    "        pcap: dpkt pcap reader object (dpkt.pcap.Reader)\n",
    "    \"\"\"\n",
    "    tcpcounter, udpcounter, icmpcounter, arpcounter, other_counter = 0, 0, 0, 0, 0\n",
    "\n",
    "    # For each packet in the pcap process the contents\n",
    "    for timestamp, buf in pcap:\n",
    "\n",
    "        # Print out the timestamp in UTC\n",
    "        print(\"Timestamp: \", str(datetime.datetime.utcfromtimestamp(timestamp)))\n",
    "\n",
    "        # Unpack the Ethernet frame (mac src/dst, ethertype)\n",
    "        eth = dpkt.ethernet.Ethernet(buf)\n",
    "        # print(\"Ethernet Frame: \", mac_addr(eth.src), mac_addr(eth.dst), eth.type)\n",
    "\n",
    "        # # Make sure the Ethernet data contains an IP packet\n",
    "        # if not isinstance(eth.data, dpkt.ip.IP):\n",
    "        #     # print(\"Non IP Packet type not supported %s\\n\" % eth.data.__class__.__name__)\n",
    "        #     continue\n",
    "        if isinstance(eth.data, dpkt.arp.ARP):\n",
    "            # print('Ignoring ARP packet %s\\n' % eth.data.__class__.__name__)\n",
    "            # continue\n",
    "            arpcounter += 1\n",
    "\n",
    "        elif isinstance(eth.data, dpkt.ip.IP):\n",
    "            # Now unpack the data within the Ethernet frame (the IP packet)\n",
    "            # Pulling out src, dst, length, fragment info, TTL, and Protocol\n",
    "            ip = eth.data\n",
    "\n",
    "            if ip.p == dpkt.ip.IP_PROTO_TCP:  # ip.p == 6:\n",
    "\n",
    "                tcpcounter += 1\n",
    "            if ip.p == dpkt.ip.IP_PROTO_UDP:  # ip.p==17:\n",
    "\n",
    "                udpcounter += 1\n",
    "            if ip.p == dpkt.ip.IP_PROTO_ICMP:\n",
    "                icmpcounter += 1\n",
    "\n",
    "            #         print(\"Test me\",ip.data)\n",
    "            # Pull out fragment information (flags and offset all packed into off field, so use bitmasks)\n",
    "            do_not_fragment = bool(ip.off & dpkt.ip.IP_DF)\n",
    "            more_fragments = bool(ip.off & dpkt.ip.IP_MF)\n",
    "            fragment_offset = ip.off & dpkt.ip.IP_OFFMASK\n",
    "        else:\n",
    "            # print(\"Ignoring packets except ARP,TCP,UDP,ICMP \\n\")\n",
    "            other_counter += 1\n",
    "            continue\n",
    "        # Print out the info\n",
    "    #         print('IP: %s -> %s   (len=%d ttl=%d DF=%d MF=%d offset=%d)\\n' % \\\n",
    "    #               (inet_to_str(ip.src), inet_to_str(ip.dst), ip.len, ip.ttl, do_not_fragment, more_fragments, fragment_offset))\n",
    "    print(\"Pcap file's number of arp packets :\", arpcounter)\n",
    "\n",
    "    print(\"Pcap file's number of tcp packets :\", tcpcounter)\n",
    "\n",
    "    print(\"Pcap file's number of udp packets :\", udpcounter)\n",
    "    print(\"Pcap file's number of icmp packets :\", icmpcounter)\n",
    "    print(\"Pcap file's number of OTHER packets :\", other_counter)\n",
    "\n",
    "    return (arpcounter, tcpcounter, udpcounter, icmpcounter, other_counter)"
   ]
  },
  {
   "cell_type": "code",
   "execution_count": 6,
   "id": "becoming-crystal",
   "metadata": {},
   "outputs": [
    {
     "ename": "KeyboardInterrupt",
     "evalue": "",
     "output_type": "error",
     "traceback": [
      "\u001b[0;31m---------------------------------------------------------------------------\u001b[0m",
      "\u001b[0;31mKeyboardInterrupt\u001b[0m                         Traceback (most recent call last)",
      "\u001b[0;32m<ipython-input-6-953ebe63fe69>\u001b[0m in \u001b[0;36m<module>\u001b[0;34m\u001b[0m\n\u001b[1;32m      6\u001b[0m     \u001b[0;32mwith\u001b[0m \u001b[0mopen\u001b[0m\u001b[0;34m(\u001b[0m\u001b[0mpath\u001b[0m \u001b[0;34m+\u001b[0m \u001b[0mstr\u001b[0m\u001b[0;34m(\u001b[0m\u001b[0mpcapf\u001b[0m\u001b[0;34m)\u001b[0m\u001b[0;34m,\u001b[0m \u001b[0;34m\"rb\"\u001b[0m\u001b[0;34m)\u001b[0m \u001b[0;32mas\u001b[0m \u001b[0mf\u001b[0m\u001b[0;34m:\u001b[0m\u001b[0;34m\u001b[0m\u001b[0;34m\u001b[0m\u001b[0m\n\u001b[1;32m      7\u001b[0m         \u001b[0mfile\u001b[0m \u001b[0;34m=\u001b[0m \u001b[0mdpkt\u001b[0m\u001b[0;34m.\u001b[0m\u001b[0mpcap\u001b[0m\u001b[0;34m.\u001b[0m\u001b[0mReader\u001b[0m\u001b[0;34m(\u001b[0m\u001b[0mf\u001b[0m\u001b[0;34m)\u001b[0m\u001b[0;34m\u001b[0m\u001b[0;34m\u001b[0m\u001b[0m\n\u001b[0;32m----> 8\u001b[0;31m         \u001b[0mn_arp\u001b[0m\u001b[0;34m,\u001b[0m \u001b[0mn_tcp\u001b[0m\u001b[0;34m,\u001b[0m \u001b[0mn_udp\u001b[0m\u001b[0;34m,\u001b[0m \u001b[0mn_icmp\u001b[0m\u001b[0;34m,\u001b[0m \u001b[0mn_other\u001b[0m \u001b[0;34m=\u001b[0m \u001b[0mprint_packets\u001b[0m\u001b[0;34m(\u001b[0m\u001b[0mfile\u001b[0m\u001b[0;34m)\u001b[0m\u001b[0;34m\u001b[0m\u001b[0;34m\u001b[0m\u001b[0m\n\u001b[0m\u001b[1;32m      9\u001b[0m         \u001b[0mtotal_arp\u001b[0m \u001b[0;34m+=\u001b[0m \u001b[0mn_arp\u001b[0m\u001b[0;34m\u001b[0m\u001b[0;34m\u001b[0m\u001b[0m\n\u001b[1;32m     10\u001b[0m         \u001b[0mtotal_tcp\u001b[0m \u001b[0;34m+=\u001b[0m \u001b[0mn_tcp\u001b[0m\u001b[0;34m\u001b[0m\u001b[0;34m\u001b[0m\u001b[0m\n",
      "\u001b[0;32m<ipython-input-4-55c04b64dbca>\u001b[0m in \u001b[0;36mprint_packets\u001b[0;34m(pcap)\u001b[0m\n\u001b[1;32m     40\u001b[0m \u001b[0;34m\u001b[0m\u001b[0m\n\u001b[1;32m     41\u001b[0m         \u001b[0;31m# Unpack the Ethernet frame (mac src/dst, ethertype)\u001b[0m\u001b[0;34m\u001b[0m\u001b[0;34m\u001b[0m\u001b[0;34m\u001b[0m\u001b[0m\n\u001b[0;32m---> 42\u001b[0;31m         \u001b[0meth\u001b[0m \u001b[0;34m=\u001b[0m \u001b[0mdpkt\u001b[0m\u001b[0;34m.\u001b[0m\u001b[0methernet\u001b[0m\u001b[0;34m.\u001b[0m\u001b[0mEthernet\u001b[0m\u001b[0;34m(\u001b[0m\u001b[0mbuf\u001b[0m\u001b[0;34m)\u001b[0m\u001b[0;34m\u001b[0m\u001b[0;34m\u001b[0m\u001b[0m\n\u001b[0m\u001b[1;32m     43\u001b[0m         \u001b[0;31m# print(\"Ethernet Frame: \", mac_addr(eth.src), mac_addr(eth.dst), eth.type)\u001b[0m\u001b[0;34m\u001b[0m\u001b[0;34m\u001b[0m\u001b[0;34m\u001b[0m\u001b[0m\n\u001b[1;32m     44\u001b[0m \u001b[0;34m\u001b[0m\u001b[0m\n",
      "\u001b[0;32m/usr/lib/python3.9/site-packages/dpkt/ethernet.py\u001b[0m in \u001b[0;36m__init__\u001b[0;34m(self, *args, **kwargs)\u001b[0m\n\u001b[1;32m     74\u001b[0m     \u001b[0;32mdef\u001b[0m \u001b[0m__init__\u001b[0m\u001b[0;34m(\u001b[0m\u001b[0mself\u001b[0m\u001b[0;34m,\u001b[0m \u001b[0;34m*\u001b[0m\u001b[0margs\u001b[0m\u001b[0;34m,\u001b[0m \u001b[0;34m**\u001b[0m\u001b[0mkwargs\u001b[0m\u001b[0;34m)\u001b[0m\u001b[0;34m:\u001b[0m\u001b[0;34m\u001b[0m\u001b[0;34m\u001b[0m\u001b[0m\n\u001b[1;32m     75\u001b[0m         \u001b[0mself\u001b[0m\u001b[0;34m.\u001b[0m\u001b[0m_next_type\u001b[0m \u001b[0;34m=\u001b[0m \u001b[0;32mNone\u001b[0m\u001b[0;34m\u001b[0m\u001b[0;34m\u001b[0m\u001b[0m\n\u001b[0;32m---> 76\u001b[0;31m         \u001b[0mdpkt\u001b[0m\u001b[0;34m.\u001b[0m\u001b[0mPacket\u001b[0m\u001b[0;34m.\u001b[0m\u001b[0m__init__\u001b[0m\u001b[0;34m(\u001b[0m\u001b[0mself\u001b[0m\u001b[0;34m,\u001b[0m \u001b[0;34m*\u001b[0m\u001b[0margs\u001b[0m\u001b[0;34m,\u001b[0m \u001b[0;34m**\u001b[0m\u001b[0mkwargs\u001b[0m\u001b[0;34m)\u001b[0m\u001b[0;34m\u001b[0m\u001b[0;34m\u001b[0m\u001b[0m\n\u001b[0m\u001b[1;32m     77\u001b[0m         \u001b[0;31m# if data was given in kwargs, try to unpack it\u001b[0m\u001b[0;34m\u001b[0m\u001b[0;34m\u001b[0m\u001b[0;34m\u001b[0m\u001b[0m\n\u001b[1;32m     78\u001b[0m         \u001b[0;32mif\u001b[0m \u001b[0mself\u001b[0m\u001b[0;34m.\u001b[0m\u001b[0mdata\u001b[0m\u001b[0;34m:\u001b[0m\u001b[0;34m\u001b[0m\u001b[0;34m\u001b[0m\u001b[0m\n",
      "\u001b[0;32m/usr/lib/python3.9/site-packages/dpkt/dpkt.py\u001b[0m in \u001b[0;36m__init__\u001b[0;34m(self, *args, **kwargs)\u001b[0m\n\u001b[1;32m     85\u001b[0m         \u001b[0;32mif\u001b[0m \u001b[0margs\u001b[0m\u001b[0;34m:\u001b[0m\u001b[0;34m\u001b[0m\u001b[0;34m\u001b[0m\u001b[0m\n\u001b[1;32m     86\u001b[0m             \u001b[0;32mtry\u001b[0m\u001b[0;34m:\u001b[0m\u001b[0;34m\u001b[0m\u001b[0;34m\u001b[0m\u001b[0m\n\u001b[0;32m---> 87\u001b[0;31m                 \u001b[0mself\u001b[0m\u001b[0;34m.\u001b[0m\u001b[0munpack\u001b[0m\u001b[0;34m(\u001b[0m\u001b[0margs\u001b[0m\u001b[0;34m[\u001b[0m\u001b[0;36m0\u001b[0m\u001b[0;34m]\u001b[0m\u001b[0;34m)\u001b[0m\u001b[0;34m\u001b[0m\u001b[0;34m\u001b[0m\u001b[0m\n\u001b[0m\u001b[1;32m     88\u001b[0m             \u001b[0;32mexcept\u001b[0m \u001b[0mstruct\u001b[0m\u001b[0;34m.\u001b[0m\u001b[0merror\u001b[0m\u001b[0;34m:\u001b[0m\u001b[0;34m\u001b[0m\u001b[0;34m\u001b[0m\u001b[0m\n\u001b[1;32m     89\u001b[0m                 \u001b[0;32mif\u001b[0m \u001b[0mlen\u001b[0m\u001b[0;34m(\u001b[0m\u001b[0margs\u001b[0m\u001b[0;34m[\u001b[0m\u001b[0;36m0\u001b[0m\u001b[0;34m]\u001b[0m\u001b[0;34m)\u001b[0m \u001b[0;34m<\u001b[0m \u001b[0mself\u001b[0m\u001b[0;34m.\u001b[0m\u001b[0m__hdr_len__\u001b[0m\u001b[0;34m:\u001b[0m\u001b[0;34m\u001b[0m\u001b[0;34m\u001b[0m\u001b[0m\n",
      "\u001b[0;32m/usr/lib/python3.9/site-packages/dpkt/ethernet.py\u001b[0m in \u001b[0;36munpack\u001b[0;34m(self, buf)\u001b[0m\n\u001b[1;32m    131\u001b[0m             \u001b[0;31m# Ethernet II\u001b[0m\u001b[0;34m\u001b[0m\u001b[0;34m\u001b[0m\u001b[0;34m\u001b[0m\u001b[0m\n\u001b[1;32m    132\u001b[0m             \u001b[0mself\u001b[0m\u001b[0;34m.\u001b[0m\u001b[0m_next_type\u001b[0m \u001b[0;34m=\u001b[0m \u001b[0mself\u001b[0m\u001b[0;34m.\u001b[0m\u001b[0mtype\u001b[0m\u001b[0;34m\u001b[0m\u001b[0;34m\u001b[0m\u001b[0m\n\u001b[0;32m--> 133\u001b[0;31m             \u001b[0mself\u001b[0m\u001b[0;34m.\u001b[0m\u001b[0m_unpack_data\u001b[0m\u001b[0;34m(\u001b[0m\u001b[0mself\u001b[0m\u001b[0;34m.\u001b[0m\u001b[0mdata\u001b[0m\u001b[0;34m)\u001b[0m\u001b[0;34m\u001b[0m\u001b[0;34m\u001b[0m\u001b[0m\n\u001b[0m\u001b[1;32m    134\u001b[0m \u001b[0;34m\u001b[0m\u001b[0m\n\u001b[1;32m    135\u001b[0m         elif (self.dst.startswith(b'\\x01\\x00\\x0c\\x00\\x00') or\n",
      "\u001b[0;32m/usr/lib/python3.9/site-packages/dpkt/ethernet.py\u001b[0m in \u001b[0;36m_unpack_data\u001b[0;34m(self, buf)\u001b[0m\n\u001b[1;32m    121\u001b[0m         \u001b[0;32mtry\u001b[0m\u001b[0;34m:\u001b[0m\u001b[0;34m\u001b[0m\u001b[0;34m\u001b[0m\u001b[0m\n\u001b[1;32m    122\u001b[0m             \u001b[0meth_type\u001b[0m \u001b[0;34m=\u001b[0m \u001b[0mself\u001b[0m\u001b[0;34m.\u001b[0m\u001b[0m_next_type\u001b[0m \u001b[0;32mor\u001b[0m \u001b[0mself\u001b[0m\u001b[0;34m.\u001b[0m\u001b[0mtype\u001b[0m\u001b[0;34m\u001b[0m\u001b[0;34m\u001b[0m\u001b[0m\n\u001b[0;32m--> 123\u001b[0;31m             \u001b[0mself\u001b[0m\u001b[0;34m.\u001b[0m\u001b[0mdata\u001b[0m \u001b[0;34m=\u001b[0m \u001b[0mself\u001b[0m\u001b[0;34m.\u001b[0m\u001b[0m_typesw\u001b[0m\u001b[0;34m[\u001b[0m\u001b[0meth_type\u001b[0m\u001b[0;34m]\u001b[0m\u001b[0;34m(\u001b[0m\u001b[0mbuf\u001b[0m\u001b[0;34m)\u001b[0m\u001b[0;34m\u001b[0m\u001b[0;34m\u001b[0m\u001b[0m\n\u001b[0m\u001b[1;32m    124\u001b[0m             \u001b[0msetattr\u001b[0m\u001b[0;34m(\u001b[0m\u001b[0mself\u001b[0m\u001b[0;34m,\u001b[0m \u001b[0mself\u001b[0m\u001b[0;34m.\u001b[0m\u001b[0mdata\u001b[0m\u001b[0;34m.\u001b[0m\u001b[0m__class__\u001b[0m\u001b[0;34m.\u001b[0m\u001b[0m__name__\u001b[0m\u001b[0;34m.\u001b[0m\u001b[0mlower\u001b[0m\u001b[0;34m(\u001b[0m\u001b[0;34m)\u001b[0m\u001b[0;34m,\u001b[0m \u001b[0mself\u001b[0m\u001b[0;34m.\u001b[0m\u001b[0mdata\u001b[0m\u001b[0;34m)\u001b[0m\u001b[0;34m\u001b[0m\u001b[0;34m\u001b[0m\u001b[0m\n\u001b[1;32m    125\u001b[0m         \u001b[0;32mexcept\u001b[0m \u001b[0;34m(\u001b[0m\u001b[0mKeyError\u001b[0m\u001b[0;34m,\u001b[0m \u001b[0mdpkt\u001b[0m\u001b[0;34m.\u001b[0m\u001b[0mUnpackError\u001b[0m\u001b[0;34m)\u001b[0m\u001b[0;34m:\u001b[0m\u001b[0;34m\u001b[0m\u001b[0;34m\u001b[0m\u001b[0m\n",
      "\u001b[0;32m/usr/lib/python3.9/site-packages/dpkt/ip.py\u001b[0m in \u001b[0;36m__init__\u001b[0;34m(self, *args, **kwargs)\u001b[0m\n\u001b[1;32m     34\u001b[0m     \u001b[0mopts\u001b[0m \u001b[0;34m=\u001b[0m \u001b[0;34mb''\u001b[0m\u001b[0;34m\u001b[0m\u001b[0;34m\u001b[0m\u001b[0m\n\u001b[1;32m     35\u001b[0m \u001b[0;34m\u001b[0m\u001b[0m\n\u001b[0;32m---> 36\u001b[0;31m     \u001b[0;32mdef\u001b[0m \u001b[0m__init__\u001b[0m\u001b[0;34m(\u001b[0m\u001b[0mself\u001b[0m\u001b[0;34m,\u001b[0m \u001b[0;34m*\u001b[0m\u001b[0margs\u001b[0m\u001b[0;34m,\u001b[0m \u001b[0;34m**\u001b[0m\u001b[0mkwargs\u001b[0m\u001b[0;34m)\u001b[0m\u001b[0;34m:\u001b[0m\u001b[0;34m\u001b[0m\u001b[0;34m\u001b[0m\u001b[0m\n\u001b[0m\u001b[1;32m     37\u001b[0m         \u001b[0msuper\u001b[0m\u001b[0;34m(\u001b[0m\u001b[0mIP\u001b[0m\u001b[0;34m,\u001b[0m \u001b[0mself\u001b[0m\u001b[0;34m)\u001b[0m\u001b[0;34m.\u001b[0m\u001b[0m__init__\u001b[0m\u001b[0;34m(\u001b[0m\u001b[0;34m*\u001b[0m\u001b[0margs\u001b[0m\u001b[0;34m,\u001b[0m \u001b[0;34m**\u001b[0m\u001b[0mkwargs\u001b[0m\u001b[0;34m)\u001b[0m\u001b[0;34m\u001b[0m\u001b[0;34m\u001b[0m\u001b[0m\n\u001b[1;32m     38\u001b[0m \u001b[0;34m\u001b[0m\u001b[0m\n",
      "\u001b[0;31mKeyboardInterrupt\u001b[0m: "
     ]
    }
   ],
   "source": [
    "total_arp, total_tcp, total_udp, total_icmp, total_other = 0, 0, 0, 0, 0\n",
    "pcap_files = []\n",
    "# with alive_bar(len(filenames)) as bar:\n",
    "for pcapf in filenames:\n",
    "    print(\"Pcap file reading...==> \", str(pcapf), \"\\n\")\n",
    "    with open(path + str(pcapf), \"rb\") as f:\n",
    "        file = dpkt.pcap.Reader(f)\n",
    "        n_arp, n_tcp, n_udp, n_icmp, n_other = print_packets(file)\n",
    "        total_arp += n_arp\n",
    "        total_tcp += n_tcp\n",
    "        total_udp += n_udp\n",
    "        total_icmp += n_icmp\n",
    "        total_other += n_other\n",
    "total_packets = (\n",
    "    total_arp + total_tcp + total_udp + total_icmp + total_other\n",
    ")  # total packets\n",
    "print(\n",
    "    \"Total ARPs: {} Total TCPs: {} Total UDPs: {} Total ICMPs: {} / Out Of {} total packets captured\".format(\n",
    "        total_arp, total_tcp, total_udp, total_icmp, total_packets\n",
    "    )\n",
    ")\n"
   ]
  }
 ],
 "metadata": {
  "kernelspec": {
   "display_name": "Python 3",
   "language": "python",
   "name": "python3"
  },
  "language_info": {
   "codemirror_mode": {
    "name": "ipython",
    "version": 3
   },
   "file_extension": ".py",
   "mimetype": "text/x-python",
   "name": "python",
   "nbconvert_exporter": "python",
   "pygments_lexer": "ipython3",
   "version": "3.9.2"
  }
 },
 "nbformat": 4,
 "nbformat_minor": 5
}
